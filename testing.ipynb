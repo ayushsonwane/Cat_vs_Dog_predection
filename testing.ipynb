{
 "cells": [
  {
   "cell_type": "code",
   "execution_count": 1,
   "id": "93ed0e72",
   "metadata": {},
   "outputs": [],
   "source": [
    "import cv2\n",
    "from keras.models import load_model\n",
    "from PIL import Image\n",
    "import numpy as np\n",
    "import matplotlib.pyplot as plt\n",
    "from matplotlib import style\n"
   ]
  },
  {
   "cell_type": "code",
   "execution_count": 17,
   "id": "9b0de41c",
   "metadata": {},
   "outputs": [
    {
     "name": "stdout",
     "output_type": "stream",
     "text": [
      "1/1 [==============================] - 0s 126ms/step\n",
      "Cat : Dog\n",
      "[[0. 1.]]\n"
     ]
    }
   ],
   "source": [
    "model = load_model('cats-vs-dogs.h5')\n",
    "\n",
    "image = cv2.imread('C:\\\\Users\\\\ayush\\\\Desktop\\\\Practice\\\\pred\\\\pred (106).jpg')\n",
    "\n",
    "img=Image.fromarray(image)\n",
    "img=img.resize((100,100))\n",
    "img=np.array(img)\n",
    "\n",
    "input_img=np.expand_dims(img,axis=0)\n",
    "result = model.predict(input_img)\n",
    "\n",
    "print (\"Cat : Dog\")\n",
    "print(result)"
   ]
  },
  {
   "cell_type": "code",
   "execution_count": null,
   "id": "ef8e3a86",
   "metadata": {},
   "outputs": [],
   "source": []
  },
  {
   "cell_type": "code",
   "execution_count": null,
   "id": "1068732b",
   "metadata": {},
   "outputs": [],
   "source": []
  }
 ],
 "metadata": {
  "kernelspec": {
   "display_name": "Python 3 (ipykernel)",
   "language": "python",
   "name": "python3"
  },
  "language_info": {
   "codemirror_mode": {
    "name": "ipython",
    "version": 3
   },
   "file_extension": ".py",
   "mimetype": "text/x-python",
   "name": "python",
   "nbconvert_exporter": "python",
   "pygments_lexer": "ipython3",
   "version": "3.9.13"
  }
 },
 "nbformat": 4,
 "nbformat_minor": 5
}
