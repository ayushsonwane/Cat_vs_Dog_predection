{
 "cells": [
  {
   "cell_type": "code",
   "execution_count": 1,
   "id": "121154d5",
   "metadata": {},
   "outputs": [],
   "source": [
    "import pickle"
   ]
  },
  {
   "cell_type": "code",
   "execution_count": 2,
   "id": "a8ec1fa4",
   "metadata": {},
   "outputs": [],
   "source": [
    "x = pickle.load(open('x.pkl' , 'rb'))\n",
    "y = pickle.load(open('y.pkl' , 'rb'))"
   ]
  },
  {
   "cell_type": "code",
   "execution_count": 3,
   "id": "8924790f",
   "metadata": {},
   "outputs": [],
   "source": [
    "x = x/255"
   ]
  },
  {
   "cell_type": "code",
   "execution_count": 4,
   "id": "7db4540e",
   "metadata": {},
   "outputs": [
    {
     "data": {
      "text/plain": [
       "(23000, 100, 100, 3)"
      ]
     },
     "execution_count": 4,
     "metadata": {},
     "output_type": "execute_result"
    }
   ],
   "source": [
    "x.shape"
   ]
  },
  {
   "cell_type": "code",
   "execution_count": 5,
   "id": "88b530b4",
   "metadata": {},
   "outputs": [],
   "source": [
    "from tensorflow import keras\n",
    "from keras.models import Sequential\n",
    "from keras.layers import Conv2D, MaxPooling2D , Flatten , Dense"
   ]
  },
  {
   "cell_type": "code",
   "execution_count": 6,
   "id": "ba1c47d4",
   "metadata": {},
   "outputs": [],
   "source": [
    "model = Sequential()\n",
    "\n",
    "model.add(Conv2D(64 , (3,3) , activation = 'relu'))\n",
    "model.add(MaxPooling2D((2,2)))\n",
    "\n",
    "model.add(Conv2D(64 , (3,3) , activation = 'relu'))\n",
    "model.add(MaxPooling2D((2,2)))\n",
    "\n",
    "model.add(Flatten())\n",
    "\n",
    "model.add(Dense(128 ,input_shape = x.shape[1:] , activation = 'relu'))\n",
    "model.add(Dense(2 , activation = 'softmax'))\n"
   ]
  },
  {
   "cell_type": "code",
   "execution_count": 7,
   "id": "d772082e",
   "metadata": {},
   "outputs": [
    {
     "name": "stdout",
     "output_type": "stream",
     "text": [
      "Epoch 1/5\n",
      "647/647 [==============================] - 314s 482ms/step - loss: 0.6828 - accuracy: 0.5786 - val_loss: 0.6147 - val_accuracy: 0.6826\n",
      "Epoch 2/5\n",
      "647/647 [==============================] - 299s 462ms/step - loss: 0.5750 - accuracy: 0.7036 - val_loss: 0.5495 - val_accuracy: 0.7287\n",
      "Epoch 3/5\n",
      "647/647 [==============================] - 298s 460ms/step - loss: 0.4742 - accuracy: 0.7701 - val_loss: 0.4866 - val_accuracy: 0.7670\n",
      "Epoch 4/5\n",
      "647/647 [==============================] - 321s 496ms/step - loss: 0.3797 - accuracy: 0.8270 - val_loss: 0.4850 - val_accuracy: 0.7830\n",
      "Epoch 5/5\n",
      "647/647 [==============================] - 300s 464ms/step - loss: 0.2564 - accuracy: 0.8920 - val_loss: 0.5802 - val_accuracy: 0.7822\n"
     ]
    },
    {
     "data": {
      "text/plain": [
       "<keras.callbacks.History at 0x1b00b230970>"
      ]
     },
     "execution_count": 7,
     "metadata": {},
     "output_type": "execute_result"
    }
   ],
   "source": [
    "model.compile(optimizer = 'adam' , loss = 'sparse_categorical_crossentropy' , metrics = ['accuracy'])\n",
    "model.fit(x , y , epochs=5 , validation_split = 0.1)"
   ]
  },
  {
   "cell_type": "code",
   "execution_count": 8,
   "id": "5b6e8f14",
   "metadata": {},
   "outputs": [
    {
     "name": "stdout",
     "output_type": "stream",
     "text": [
      "Model: \"sequential\"\n",
      "_________________________________________________________________\n",
      " Layer (type)                Output Shape              Param #   \n",
      "=================================================================\n",
      " conv2d (Conv2D)             (None, 98, 98, 64)        1792      \n",
      "                                                                 \n",
      " max_pooling2d (MaxPooling2D  (None, 49, 49, 64)       0         \n",
      " )                                                               \n",
      "                                                                 \n",
      " conv2d_1 (Conv2D)           (None, 47, 47, 64)        36928     \n",
      "                                                                 \n",
      " max_pooling2d_1 (MaxPooling  (None, 23, 23, 64)       0         \n",
      " 2D)                                                             \n",
      "                                                                 \n",
      " flatten (Flatten)           (None, 33856)             0         \n",
      "                                                                 \n",
      " dense (Dense)               (None, 128)               4333696   \n",
      "                                                                 \n",
      " dense_1 (Dense)             (None, 2)                 258       \n",
      "                                                                 \n",
      "=================================================================\n",
      "Total params: 4,372,674\n",
      "Trainable params: 4,372,674\n",
      "Non-trainable params: 0\n",
      "_________________________________________________________________\n"
     ]
    }
   ],
   "source": [
    "model.summary()    "
   ]
  },
  {
   "cell_type": "code",
   "execution_count": 9,
   "id": "089c1d56",
   "metadata": {},
   "outputs": [],
   "source": [
    "model.save('cats-vs-dogs.h5')"
   ]
  },
  {
   "cell_type": "code",
   "execution_count": null,
   "id": "5d63c1fd",
   "metadata": {},
   "outputs": [],
   "source": []
  }
 ],
 "metadata": {
  "kernelspec": {
   "display_name": "Python 3 (ipykernel)",
   "language": "python",
   "name": "python3"
  },
  "language_info": {
   "codemirror_mode": {
    "name": "ipython",
    "version": 3
   },
   "file_extension": ".py",
   "mimetype": "text/x-python",
   "name": "python",
   "nbconvert_exporter": "python",
   "pygments_lexer": "ipython3",
   "version": "3.9.13"
  }
 },
 "nbformat": 4,
 "nbformat_minor": 5
}
